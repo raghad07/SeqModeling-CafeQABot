{
  "cells": [
    {
      "attachments": {},
      "cell_type": "markdown",
      "metadata": {
        "id": "AU78WMPocdFw"
      },
      "source": [
        "Thetrain sequence models on the `Cafe Chatbot Data`.\n",
        "\n",
        "Before starting copy this file and work on your own copy by following the below steps: <br>\n",
        "`File > Save Copy in Drive`. Then add your name to the file (e.g., Assignment 07: Sequence Modeling - Zahraa Dhafer).\n",
        "\n",
        "**DATASET**\n",
        "This dataset consists of three csv files, you'll be working on the conversationo CSV file which contains two columns of questions and answers.<br><br>\n",
        "**Submission Deadline: Saturday, 3/12/2022 at 3:00 PM**\n",
        "\n",
        "**Requirements:**\n",
        "\n",
        "1. Import all necessary libraries for the sequence modeling project.\n",
        "2. Download the dataset (the link is provided below).\n",
        "3. Read data from CSV file.\n",
        "4. Prepare the data:\n",
        "*   Clean the sentences by removing special characters.\n",
        "*   Add a start and end token to each sentence.\n",
        "*   Tokenize the sentences.\n",
        "*   Pad each sentence to a maximum length.\n",
        "<br>\n",
        "5. Create the Data Pipeline for the Model\n",
        "6. Create the Seq2Seq Model Architecture.<br>\n",
        "**Note**: Use Adam optimizer and the appropriate loss function.\n",
        "7. Create the Optimizer and the Loss Function.\n",
        "8. Create the Training Step.\n",
        "9. Create the Training Loop\n",
        "\n",
        "\n",
        "\n",
        "\n",
        "[Dataset](https://www.kaggle.com/sonalibhoir/cafe-chatbot-dataset?select=conversationo.csv)\n"
      ]
    },
    {
      "attachments": {},
      "cell_type": "markdown",
      "metadata": {
        "id": "NY3o4kreqOLG"
      },
      "source": [
        "## 1- Import all necessary libraries for the sequence modeling project"
      ]
    },
    {
      "cell_type": "code",
      "execution_count": 1,
      "metadata": {
        "id": "0nYUDKQBic7L"
      },
      "outputs": [],
      "source": [
        "#import libraries\n",
        "import tensorflow as tf\n",
        "import numpy as np\n",
        "import pandas as pd\n",
        "import re\n",
        "from sklearn import model_selection\n",
        "import matplotlib.pyplot as plt"
      ]
    },
    {
      "attachments": {},
      "cell_type": "markdown",
      "metadata": {
        "id": "dG-8I4sUqatO"
      },
      "source": [
        "## 2- Download the dataset"
      ]
    },
    {
      "cell_type": "code",
      "execution_count": 2,
      "metadata": {
        "id": "TPmmLNyHaq8a"
      },
      "outputs": [],
      "source": [
        "# download the required dataset from kaggle \n",
        "! mkdir ~/.kaggle\n",
        "! cp kaggle.json ~/.kaggle/\n",
        "! chmod 600 ~/.kaggle/kaggle.json"
      ]
    },
    {
      "cell_type": "code",
      "execution_count": 3,
      "metadata": {
        "colab": {
          "base_uri": "https://localhost:8080/"
        },
        "id": "bYGeRwCa6Dt9",
        "outputId": "8d3cda48-b050-4ff7-d165-ae6d7b2bdc7b"
      },
      "outputs": [
        {
          "name": "stdout",
          "output_type": "stream",
          "text": [
            "Downloading cafe-chatbot-dataset.zip to /content\n",
            "\r  0% 0.00/7.55k [00:00<?, ?B/s]\n",
            "\r100% 7.55k/7.55k [00:00<00:00, 5.05MB/s]\n"
          ]
        }
      ],
      "source": [
        "!kaggle datasets download -d sonalibhoir/cafe-chatbot-dataset"
      ]
    },
    {
      "cell_type": "code",
      "execution_count": 4,
      "metadata": {
        "colab": {
          "base_uri": "https://localhost:8080/"
        },
        "id": "WlKqGGtU6F2t",
        "outputId": "049fe7e2-f1df-4fd1-fcb5-c178b8fea084"
      },
      "outputs": [
        {
          "name": "stdout",
          "output_type": "stream",
          "text": [
            "Archive:  /content/cafe-chatbot-dataset.zip\n",
            "  inflating: Item_to_id.csv          \n",
            "  inflating: conversationo.csv       \n",
            "  inflating: food.csv                \n"
          ]
        }
      ],
      "source": [
        "!unzip /content/cafe-chatbot-dataset.zip"
      ]
    },
    {
      "attachments": {},
      "cell_type": "markdown",
      "metadata": {
        "id": "MLA4G5gFqjOz"
      },
      "source": [
        "## 3- Read data from CSV file"
      ]
    },
    {
      "cell_type": "code",
      "execution_count": 55,
      "metadata": {
        "id": "U5jS8nESqtmf"
      },
      "outputs": [],
      "source": [
        "#read data from csv file\n",
        "data=pd.read_csv('/content/conversationo.csv')"
      ]
    },
    {
      "cell_type": "code",
      "execution_count": 56,
      "metadata": {
        "colab": {
          "base_uri": "https://localhost:8080/",
          "height": 424
        },
        "id": "3uv2qZgx69vx",
        "outputId": "c2a4d75e-b800-4cd0-c172-13565d278aa1"
      },
      "outputs": [
        {
          "data": {
            "text/html": [
              "\n",
              "  <div id=\"df-7157aba4-3495-45c4-915d-f22c0a43a6da\">\n",
              "    <div class=\"colab-df-container\">\n",
              "      <div>\n",
              "<style scoped>\n",
              "    .dataframe tbody tr th:only-of-type {\n",
              "        vertical-align: middle;\n",
              "    }\n",
              "\n",
              "    .dataframe tbody tr th {\n",
              "        vertical-align: top;\n",
              "    }\n",
              "\n",
              "    .dataframe thead th {\n",
              "        text-align: right;\n",
              "    }\n",
              "</style>\n",
              "<table border=\"1\" class=\"dataframe\">\n",
              "  <thead>\n",
              "    <tr style=\"text-align: right;\">\n",
              "      <th></th>\n",
              "      <th>Question</th>\n",
              "      <th>answer</th>\n",
              "    </tr>\n",
              "  </thead>\n",
              "  <tbody>\n",
              "    <tr>\n",
              "      <th>0</th>\n",
              "      <td>hey</td>\n",
              "      <td>Hello! How may I help you.</td>\n",
              "    </tr>\n",
              "    <tr>\n",
              "      <th>1</th>\n",
              "      <td>do u have coffee</td>\n",
              "      <td>Yes sir  Simple Coffee ,Cappuchino, Americano,...</td>\n",
              "    </tr>\n",
              "    <tr>\n",
              "      <th>2</th>\n",
              "      <td>i will take one espresso and 5 americano</td>\n",
              "      <td>Sir thanks for your order. You have ordered 1 ...</td>\n",
              "    </tr>\n",
              "    <tr>\n",
              "      <th>3</th>\n",
              "      <td>anything special</td>\n",
              "      <td>We have coffe,pastries,puff pastries and milks...</td>\n",
              "    </tr>\n",
              "    <tr>\n",
              "      <th>4</th>\n",
              "      <td>suggest something</td>\n",
              "      <td>We have coffe,pastries,puff pastries and milks...</td>\n",
              "    </tr>\n",
              "    <tr>\n",
              "      <th>...</th>\n",
              "      <td>...</td>\n",
              "      <td>...</td>\n",
              "    </tr>\n",
              "    <tr>\n",
              "      <th>974</th>\n",
              "      <td>what is price of French Coffee</td>\n",
              "      <td>Its our one of best, you can enjoy it at just ...</td>\n",
              "    </tr>\n",
              "    <tr>\n",
              "      <th>975</th>\n",
              "      <td>what is price of Iced Coffee Late</td>\n",
              "      <td>Its our one of best, you can enjoy it at just ...</td>\n",
              "    </tr>\n",
              "    <tr>\n",
              "      <th>976</th>\n",
              "      <td>what is price of Latte Macchiato</td>\n",
              "      <td>Its our one of best, you can enjoy it at just ...</td>\n",
              "    </tr>\n",
              "    <tr>\n",
              "      <th>977</th>\n",
              "      <td>what is price of Wainans Choco Coffee</td>\n",
              "      <td>Its our one of best, you can enjoy it at just ...</td>\n",
              "    </tr>\n",
              "    <tr>\n",
              "      <th>978</th>\n",
              "      <td>book me a table</td>\n",
              "      <td>To book a table you can click on last icon on ...</td>\n",
              "    </tr>\n",
              "  </tbody>\n",
              "</table>\n",
              "<p>979 rows × 2 columns</p>\n",
              "</div>\n",
              "      <button class=\"colab-df-convert\" onclick=\"convertToInteractive('df-7157aba4-3495-45c4-915d-f22c0a43a6da')\"\n",
              "              title=\"Convert this dataframe to an interactive table.\"\n",
              "              style=\"display:none;\">\n",
              "        \n",
              "  <svg xmlns=\"http://www.w3.org/2000/svg\" height=\"24px\"viewBox=\"0 0 24 24\"\n",
              "       width=\"24px\">\n",
              "    <path d=\"M0 0h24v24H0V0z\" fill=\"none\"/>\n",
              "    <path d=\"M18.56 5.44l.94 2.06.94-2.06 2.06-.94-2.06-.94-.94-2.06-.94 2.06-2.06.94zm-11 1L8.5 8.5l.94-2.06 2.06-.94-2.06-.94L8.5 2.5l-.94 2.06-2.06.94zm10 10l.94 2.06.94-2.06 2.06-.94-2.06-.94-.94-2.06-.94 2.06-2.06.94z\"/><path d=\"M17.41 7.96l-1.37-1.37c-.4-.4-.92-.59-1.43-.59-.52 0-1.04.2-1.43.59L10.3 9.45l-7.72 7.72c-.78.78-.78 2.05 0 2.83L4 21.41c.39.39.9.59 1.41.59.51 0 1.02-.2 1.41-.59l7.78-7.78 2.81-2.81c.8-.78.8-2.07 0-2.86zM5.41 20L4 18.59l7.72-7.72 1.47 1.35L5.41 20z\"/>\n",
              "  </svg>\n",
              "      </button>\n",
              "      \n",
              "  <style>\n",
              "    .colab-df-container {\n",
              "      display:flex;\n",
              "      flex-wrap:wrap;\n",
              "      gap: 12px;\n",
              "    }\n",
              "\n",
              "    .colab-df-convert {\n",
              "      background-color: #E8F0FE;\n",
              "      border: none;\n",
              "      border-radius: 50%;\n",
              "      cursor: pointer;\n",
              "      display: none;\n",
              "      fill: #1967D2;\n",
              "      height: 32px;\n",
              "      padding: 0 0 0 0;\n",
              "      width: 32px;\n",
              "    }\n",
              "\n",
              "    .colab-df-convert:hover {\n",
              "      background-color: #E2EBFA;\n",
              "      box-shadow: 0px 1px 2px rgba(60, 64, 67, 0.3), 0px 1px 3px 1px rgba(60, 64, 67, 0.15);\n",
              "      fill: #174EA6;\n",
              "    }\n",
              "\n",
              "    [theme=dark] .colab-df-convert {\n",
              "      background-color: #3B4455;\n",
              "      fill: #D2E3FC;\n",
              "    }\n",
              "\n",
              "    [theme=dark] .colab-df-convert:hover {\n",
              "      background-color: #434B5C;\n",
              "      box-shadow: 0px 1px 3px 1px rgba(0, 0, 0, 0.15);\n",
              "      filter: drop-shadow(0px 1px 2px rgba(0, 0, 0, 0.3));\n",
              "      fill: #FFFFFF;\n",
              "    }\n",
              "  </style>\n",
              "\n",
              "      <script>\n",
              "        const buttonEl =\n",
              "          document.querySelector('#df-7157aba4-3495-45c4-915d-f22c0a43a6da button.colab-df-convert');\n",
              "        buttonEl.style.display =\n",
              "          google.colab.kernel.accessAllowed ? 'block' : 'none';\n",
              "\n",
              "        async function convertToInteractive(key) {\n",
              "          const element = document.querySelector('#df-7157aba4-3495-45c4-915d-f22c0a43a6da');\n",
              "          const dataTable =\n",
              "            await google.colab.kernel.invokeFunction('convertToInteractive',\n",
              "                                                     [key], {});\n",
              "          if (!dataTable) return;\n",
              "\n",
              "          const docLinkHtml = 'Like what you see? Visit the ' +\n",
              "            '<a target=\"_blank\" href=https://colab.research.google.com/notebooks/data_table.ipynb>data table notebook</a>'\n",
              "            + ' to learn more about interactive tables.';\n",
              "          element.innerHTML = '';\n",
              "          dataTable['output_type'] = 'display_data';\n",
              "          await google.colab.output.renderOutput(dataTable, element);\n",
              "          const docLink = document.createElement('div');\n",
              "          docLink.innerHTML = docLinkHtml;\n",
              "          element.appendChild(docLink);\n",
              "        }\n",
              "      </script>\n",
              "    </div>\n",
              "  </div>\n",
              "  "
            ],
            "text/plain": [
              "                                     Question  \\\n",
              "0                                         hey   \n",
              "1                            do u have coffee   \n",
              "2    i will take one espresso and 5 americano   \n",
              "3                            anything special   \n",
              "4                           suggest something   \n",
              "..                                        ...   \n",
              "974           what is price of French Coffee    \n",
              "975         what is price of Iced Coffee Late   \n",
              "976          what is price of Latte Macchiato   \n",
              "977     what is price of Wainans Choco Coffee   \n",
              "978                           book me a table   \n",
              "\n",
              "                                                answer  \n",
              "0                           Hello! How may I help you.  \n",
              "1    Yes sir  Simple Coffee ,Cappuchino, Americano,...  \n",
              "2    Sir thanks for your order. You have ordered 1 ...  \n",
              "3    We have coffe,pastries,puff pastries and milks...  \n",
              "4    We have coffe,pastries,puff pastries and milks...  \n",
              "..                                                 ...  \n",
              "974  Its our one of best, you can enjoy it at just ...  \n",
              "975  Its our one of best, you can enjoy it at just ...  \n",
              "976  Its our one of best, you can enjoy it at just ...  \n",
              "977  Its our one of best, you can enjoy it at just ...  \n",
              "978  To book a table you can click on last icon on ...  \n",
              "\n",
              "[979 rows x 2 columns]"
            ]
          },
          "execution_count": 56,
          "metadata": {},
          "output_type": "execute_result"
        }
      ],
      "source": [
        "\n",
        "#show the data\n",
        "data"
      ]
    },
    {
      "cell_type": "code",
      "execution_count": 57,
      "metadata": {
        "colab": {
          "base_uri": "https://localhost:8080/"
        },
        "id": "GZf57hqh7mOb",
        "outputId": "0416c208-d214-45db-9641-b7dcfa85ce76"
      },
      "outputs": [
        {
          "name": "stdout",
          "output_type": "stream",
          "text": [
            "<class 'pandas.core.frame.DataFrame'>\n",
            "RangeIndex: 979 entries, 0 to 978\n",
            "Data columns (total 2 columns):\n",
            " #   Column    Non-Null Count  Dtype \n",
            "---  ------    --------------  ----- \n",
            " 0   Question  961 non-null    object\n",
            " 1   answer    939 non-null    object\n",
            "dtypes: object(2)\n",
            "memory usage: 15.4+ KB\n"
          ]
        }
      ],
      "source": [
        "#information\n",
        "data.info()"
      ]
    },
    {
      "cell_type": "code",
      "execution_count": 58,
      "metadata": {
        "colab": {
          "base_uri": "https://localhost:8080/"
        },
        "id": "cBsw9KgJWwZ6",
        "outputId": "be641195-e4d6-416d-db8e-9edfad511e3e"
      },
      "outputs": [
        {
          "data": {
            "text/plain": [
              "Question    18\n",
              "answer      40\n",
              "dtype: int64"
            ]
          },
          "execution_count": 58,
          "metadata": {},
          "output_type": "execute_result"
        }
      ],
      "source": [
        "data.isnull().sum()"
      ]
    },
    {
      "cell_type": "code",
      "execution_count": 59,
      "metadata": {
        "id": "_KinNouL8LYa"
      },
      "outputs": [],
      "source": [
        "#drop missing value\n",
        "data.dropna(inplace=True)"
      ]
    },
    {
      "cell_type": "code",
      "execution_count": 60,
      "metadata": {
        "colab": {
          "base_uri": "https://localhost:8080/"
        },
        "id": "2FIs-lzq8Sio",
        "outputId": "195c0d30-73c8-4caf-906c-567631ea1b0a"
      },
      "outputs": [
        {
          "name": "stdout",
          "output_type": "stream",
          "text": [
            "<class 'pandas.core.frame.DataFrame'>\n",
            "Int64Index: 937 entries, 0 to 978\n",
            "Data columns (total 2 columns):\n",
            " #   Column    Non-Null Count  Dtype \n",
            "---  ------    --------------  ----- \n",
            " 0   Question  937 non-null    object\n",
            " 1   answer    937 non-null    object\n",
            "dtypes: object(2)\n",
            "memory usage: 22.0+ KB\n"
          ]
        }
      ],
      "source": [
        "data.info()"
      ]
    },
    {
      "cell_type": "code",
      "execution_count": 61,
      "metadata": {
        "colab": {
          "base_uri": "https://localhost:8080/"
        },
        "id": "V_FFfzMVW-G7",
        "outputId": "addedef7-5c4e-4467-fe18-2bda01990ac2"
      },
      "outputs": [
        {
          "data": {
            "text/plain": [
              "Question    0\n",
              "answer      0\n",
              "dtype: int64"
            ]
          },
          "execution_count": 61,
          "metadata": {},
          "output_type": "execute_result"
        }
      ],
      "source": [
        "data.isnull().sum()"
      ]
    },
    {
      "cell_type": "code",
      "execution_count": 62,
      "metadata": {
        "colab": {
          "base_uri": "https://localhost:8080/",
          "height": 156
        },
        "id": "nNNe1zQa8bKC",
        "outputId": "c0a8b85b-66bb-49f5-9bdc-40c9c47fcddc"
      },
      "outputs": [
        {
          "data": {
            "text/plain": [
              "<matplotlib.axes._subplots.AxesSubplot at 0x7fb0eaf40a10>"
            ]
          },
          "execution_count": 62,
          "metadata": {},
          "output_type": "execute_result"
        },
        {
          "data": {
            "image/png": "[encoded data removed]",
            "text/plain": [
              "<Figure size 432x288 with 1 Axes>"
            ]
          },
          "metadata": {
            "needs_background": "light"
          },
          "output_type": "display_data"
        }
      ],
      "source": [
        "#plot\n",
        "data['answer'].hist()"
      ]
    },
    {
      "cell_type": "code",
      "execution_count": 63,
      "metadata": {
        "colab": {
          "base_uri": "https://localhost:8080/",
          "height": 164
        },
        "id": "PmvLc53C9Csn",
        "outputId": "ca3b84a1-7d02-4726-ac83-c5eba3fe9f55"
      },
      "outputs": [
        {
          "data": {
            "text/plain": [
              "<matplotlib.axes._subplots.AxesSubplot at 0x7fb0ea7a6f10>"
            ]
          },
          "execution_count": 63,
          "metadata": {},
          "output_type": "execute_result"
        },
        {
          "data": {
            "image/png": "[encoded data removed]",
            "text/plain": [
              "<Figure size 432x288 with 1 Axes>"
            ]
          },
          "metadata": {
            "needs_background": "light"
          },
          "output_type": "display_data"
        }
      ],
      "source": [
        "data['Question'].hist()"
      ]
    },
    {
      "attachments": {},
      "cell_type": "markdown",
      "metadata": {
        "id": "MbkGa2lwrZ-A"
      },
      "source": [
        "##4- Prepare the data:\n"
      ]
    },
    {
      "attachments": {},
      "cell_type": "markdown",
      "metadata": {
        "id": "6WfgTE72aQPL"
      },
      "source": [
        "### Clean the sentences by removing special characters"
      ]
    },
    {
      "cell_type": "code",
      "execution_count": 64,
      "metadata": {
        "id": "WVj4OxmprE7W"
      },
      "outputs": [],
      "source": [
        "\n",
        "\n",
        "def clean_text(text):\n",
        "    text = text.lower()\n",
        "    text = re.sub('\\[.*?\\]', '', text)\n",
        "    text = re.sub('https?://\\S+|www\\.\\S+', '', text)\n",
        "    text = re.sub('<.*?>+', '', text)\n",
        "    text = re.sub('\\n', '', text)\n",
        "    text = re.sub(r'[^\\w]',' ',text)\n",
        "    text = re.sub('\\w*\\d\\w*', '', text)\n",
        "    text = \" \".join(filter(lambda x:x[0]!=\"@\", text.split()))\n",
        "    return text\n",
        "data.Question=data.Question.map(clean_text)\n",
        "data.answer =data.answer.map(clean_text)\n",
        "\n"
      ]
    },
    {
      "cell_type": "code",
      "execution_count": 65,
      "metadata": {
        "colab": {
          "base_uri": "https://localhost:8080/"
        },
        "id": "dTKcczf0-Ct7",
        "outputId": "5e9cc2ff-e330-4d2a-a331-a1d028395dfb"
      },
      "outputs": [
        {
          "data": {
            "text/plain": [
              "('hey', 'hello how may i help you')"
            ]
          },
          "execution_count": 65,
          "metadata": {},
          "output_type": "execute_result"
        }
      ],
      "source": [
        "data.Question[0],data.answer[0]"
      ]
    },
    {
      "cell_type": "code",
      "execution_count": 66,
      "metadata": {
        "id": "NODcv7Ze-Rng"
      },
      "outputs": [],
      "source": [
        "#add start and end \n",
        "def add_start_end(sentence):\n",
        "  sentence= f'<start> {sentence} <end>'\n",
        "  return sentence\n",
        "\n",
        "data.answer=data.answer.map(add_start_end) \n",
        "data.Question=data.Question.map(add_start_end) "
      ]
    },
    {
      "cell_type": "code",
      "execution_count": 67,
      "metadata": {
        "colab": {
          "base_uri": "https://localhost:8080/",
          "height": 424
        },
        "id": "EmQoHbZz_Xzo",
        "outputId": "befb30f9-c4aa-402c-c5b6-79c2628851c2"
      },
      "outputs": [
        {
          "data": {
            "text/html": [
              "\n",
              "  <div id=\"df-0c4c47bd-5f8f-4b93-8a3c-8feb45d4520c\">\n",
              "    <div class=\"colab-df-container\">\n",
              "      <div>\n",
              "<style scoped>\n",
              "    .dataframe tbody tr th:only-of-type {\n",
              "        vertical-align: middle;\n",
              "    }\n",
              "\n",
              "    .dataframe tbody tr th {\n",
              "        vertical-align: top;\n",
              "    }\n",
              "\n",
              "    .dataframe thead th {\n",
              "        text-align: right;\n",
              "    }\n",
              "</style>\n",
              "<table border=\"1\" class=\"dataframe\">\n",
              "  <thead>\n",
              "    <tr style=\"text-align: right;\">\n",
              "      <th></th>\n",
              "      <th>Question</th>\n",
              "      <th>answer</th>\n",
              "    </tr>\n",
              "  </thead>\n",
              "  <tbody>\n",
              "    <tr>\n",
              "      <th>0</th>\n",
              "      <td>&lt;start&gt; hey &lt;end&gt;</td>\n",
              "      <td>&lt;start&gt; hello how may i help you &lt;end&gt;</td>\n",
              "    </tr>\n",
              "    <tr>\n",
              "      <th>1</th>\n",
              "      <td>&lt;start&gt; do u have coffee &lt;end&gt;</td>\n",
              "      <td>&lt;start&gt; yes sir simple coffee cappuchino ameri...</td>\n",
              "    </tr>\n",
              "    <tr>\n",
              "      <th>2</th>\n",
              "      <td>&lt;start&gt; i will take one espresso and americano...</td>\n",
              "      <td>&lt;start&gt; sir thanks for your order you have ord...</td>\n",
              "    </tr>\n",
              "    <tr>\n",
              "      <th>3</th>\n",
              "      <td>&lt;start&gt; anything special &lt;end&gt;</td>\n",
              "      <td>&lt;start&gt; we have coffe pastries puff pastries a...</td>\n",
              "    </tr>\n",
              "    <tr>\n",
              "      <th>4</th>\n",
              "      <td>&lt;start&gt; suggest something &lt;end&gt;</td>\n",
              "      <td>&lt;start&gt; we have coffe pastries puff pastries a...</td>\n",
              "    </tr>\n",
              "    <tr>\n",
              "      <th>...</th>\n",
              "      <td>...</td>\n",
              "      <td>...</td>\n",
              "    </tr>\n",
              "    <tr>\n",
              "      <th>974</th>\n",
              "      <td>&lt;start&gt; what is price of french coffee &lt;end&gt;</td>\n",
              "      <td>&lt;start&gt; its our one of best you can enjoy it a...</td>\n",
              "    </tr>\n",
              "    <tr>\n",
              "      <th>975</th>\n",
              "      <td>&lt;start&gt; what is price of iced coffee late &lt;end&gt;</td>\n",
              "      <td>&lt;start&gt; its our one of best you can enjoy it a...</td>\n",
              "    </tr>\n",
              "    <tr>\n",
              "      <th>976</th>\n",
              "      <td>&lt;start&gt; what is price of latte macchiato &lt;end&gt;</td>\n",
              "      <td>&lt;start&gt; its our one of best you can enjoy it a...</td>\n",
              "    </tr>\n",
              "    <tr>\n",
              "      <th>977</th>\n",
              "      <td>&lt;start&gt; what is price of wainans choco coffee ...</td>\n",
              "      <td>&lt;start&gt; its our one of best you can enjoy it a...</td>\n",
              "    </tr>\n",
              "    <tr>\n",
              "      <th>978</th>\n",
              "      <td>&lt;start&gt; book me a table &lt;end&gt;</td>\n",
              "      <td>&lt;start&gt; to book a table you can click on last ...</td>\n",
              "    </tr>\n",
              "  </tbody>\n",
              "</table>\n",
              "<p>937 rows × 2 columns</p>\n",
              "</div>\n",
              "      <button class=\"colab-df-convert\" onclick=\"convertToInteractive('df-0c4c47bd-5f8f-4b93-8a3c-8feb45d4520c')\"\n",
              "              title=\"Convert this dataframe to an interactive table.\"\n",
              "              style=\"display:none;\">\n",
              "        \n",
              "  <svg xmlns=\"http://www.w3.org/2000/svg\" height=\"24px\"viewBox=\"0 0 24 24\"\n",
              "       width=\"24px\">\n",
              "    <path d=\"M0 0h24v24H0V0z\" fill=\"none\"/>\n",
              "    <path d=\"M18.56 5.44l.94 2.06.94-2.06 2.06-.94-2.06-.94-.94-2.06-.94 2.06-2.06.94zm-11 1L8.5 8.5l.94-2.06 2.06-.94-2.06-.94L8.5 2.5l-.94 2.06-2.06.94zm10 10l.94 2.06.94-2.06 2.06-.94-2.06-.94-.94-2.06-.94 2.06-2.06.94z\"/><path d=\"M17.41 7.96l-1.37-1.37c-.4-.4-.92-.59-1.43-.59-.52 0-1.04.2-1.43.59L10.3 9.45l-7.72 7.72c-.78.78-.78 2.05 0 2.83L4 21.41c.39.39.9.59 1.41.59.51 0 1.02-.2 1.41-.59l7.78-7.78 2.81-2.81c.8-.78.8-2.07 0-2.86zM5.41 20L4 18.59l7.72-7.72 1.47 1.35L5.41 20z\"/>\n",
              "  </svg>\n",
              "      </button>\n",
              "      \n",
              "  <style>\n",
              "    .colab-df-container {\n",
              "      display:flex;\n",
              "      flex-wrap:wrap;\n",
              "      gap: 12px;\n",
              "    }\n",
              "\n",
              "    .colab-df-convert {\n",
              "      background-color: #E8F0FE;\n",
              "      border: none;\n",
              "      border-radius: 50%;\n",
              "      cursor: pointer;\n",
              "      display: none;\n",
              "      fill: #1967D2;\n",
              "      height: 32px;\n",
              "      padding: 0 0 0 0;\n",
              "      width: 32px;\n",
              "    }\n",
              "\n",
              "    .colab-df-convert:hover {\n",
              "      background-color: #E2EBFA;\n",
              "      box-shadow: 0px 1px 2px rgba(60, 64, 67, 0.3), 0px 1px 3px 1px rgba(60, 64, 67, 0.15);\n",
              "      fill: #174EA6;\n",
              "    }\n",
              "\n",
              "    [theme=dark] .colab-df-convert {\n",
              "      background-color: #3B4455;\n",
              "      fill: #D2E3FC;\n",
              "    }\n",
              "\n",
              "    [theme=dark] .colab-df-convert:hover {\n",
              "      background-color: #434B5C;\n",
              "      box-shadow: 0px 1px 3px 1px rgba(0, 0, 0, 0.15);\n",
              "      filter: drop-shadow(0px 1px 2px rgba(0, 0, 0, 0.3));\n",
              "      fill: #FFFFFF;\n",
              "    }\n",
              "  </style>\n",
              "\n",
              "      <script>\n",
              "        const buttonEl =\n",
              "          document.querySelector('#df-0c4c47bd-5f8f-4b93-8a3c-8feb45d4520c button.colab-df-convert');\n",
              "        buttonEl.style.display =\n",
              "          google.colab.kernel.accessAllowed ? 'block' : 'none';\n",
              "\n",
              "        async function convertToInteractive(key) {\n",
              "          const element = document.querySelector('#df-0c4c47bd-5f8f-4b93-8a3c-8feb45d4520c');\n",
              "          const dataTable =\n",
              "            await google.colab.kernel.invokeFunction('convertToInteractive',\n",
              "                                                     [key], {});\n",
              "          if (!dataTable) return;\n",
              "\n",
              "          const docLinkHtml = 'Like what you see? Visit the ' +\n",
              "            '<a target=\"_blank\" href=https://colab.research.google.com/notebooks/data_table.ipynb>data table notebook</a>'\n",
              "            + ' to learn more about interactive tables.';\n",
              "          element.innerHTML = '';\n",
              "          dataTable['output_type'] = 'display_data';\n",
              "          await google.colab.output.renderOutput(dataTable, element);\n",
              "          const docLink = document.createElement('div');\n",
              "          docLink.innerHTML = docLinkHtml;\n",
              "          element.appendChild(docLink);\n",
              "        }\n",
              "      </script>\n",
              "    </div>\n",
              "  </div>\n",
              "  "
            ],
            "text/plain": [
              "                                              Question  \\\n",
              "0                                    <start> hey <end>   \n",
              "1                       <start> do u have coffee <end>   \n",
              "2    <start> i will take one espresso and americano...   \n",
              "3                       <start> anything special <end>   \n",
              "4                      <start> suggest something <end>   \n",
              "..                                                 ...   \n",
              "974       <start> what is price of french coffee <end>   \n",
              "975    <start> what is price of iced coffee late <end>   \n",
              "976     <start> what is price of latte macchiato <end>   \n",
              "977  <start> what is price of wainans choco coffee ...   \n",
              "978                      <start> book me a table <end>   \n",
              "\n",
              "                                                answer  \n",
              "0               <start> hello how may i help you <end>  \n",
              "1    <start> yes sir simple coffee cappuchino ameri...  \n",
              "2    <start> sir thanks for your order you have ord...  \n",
              "3    <start> we have coffe pastries puff pastries a...  \n",
              "4    <start> we have coffe pastries puff pastries a...  \n",
              "..                                                 ...  \n",
              "974  <start> its our one of best you can enjoy it a...  \n",
              "975  <start> its our one of best you can enjoy it a...  \n",
              "976  <start> its our one of best you can enjoy it a...  \n",
              "977  <start> its our one of best you can enjoy it a...  \n",
              "978  <start> to book a table you can click on last ...  \n",
              "\n",
              "[937 rows x 2 columns]"
            ]
          },
          "execution_count": 67,
          "metadata": {},
          "output_type": "execute_result"
        }
      ],
      "source": [
        "#show the data\n",
        "data"
      ]
    },
    {
      "cell_type": "code",
      "execution_count": 68,
      "metadata": {
        "colab": {
          "base_uri": "https://localhost:8080/",
          "height": 143
        },
        "id": "Pq889nzSMfsP",
        "outputId": "96b93b2c-308a-497c-aea0-4341fa513ae9"
      },
      "outputs": [
        {
          "data": {
            "text/html": [
              "\n",
              "  <div id=\"df-89ea6d6f-7b89-430e-9db4-3b472b4aff57\">\n",
              "    <div class=\"colab-df-container\">\n",
              "      <div>\n",
              "<style scoped>\n",
              "    .dataframe tbody tr th:only-of-type {\n",
              "        vertical-align: middle;\n",
              "    }\n",
              "\n",
              "    .dataframe tbody tr th {\n",
              "        vertical-align: top;\n",
              "    }\n",
              "\n",
              "    .dataframe thead th {\n",
              "        text-align: right;\n",
              "    }\n",
              "</style>\n",
              "<table border=\"1\" class=\"dataframe\">\n",
              "  <thead>\n",
              "    <tr style=\"text-align: right;\">\n",
              "      <th></th>\n",
              "      <th>Question</th>\n",
              "      <th>answer</th>\n",
              "    </tr>\n",
              "  </thead>\n",
              "  <tbody>\n",
              "    <tr>\n",
              "      <th>0</th>\n",
              "      <td>&lt;start&gt; hey &lt;end&gt;</td>\n",
              "      <td>&lt;start&gt; hello how may i help you &lt;end&gt;</td>\n",
              "    </tr>\n",
              "    <tr>\n",
              "      <th>1</th>\n",
              "      <td>&lt;start&gt; do u have coffee &lt;end&gt;</td>\n",
              "      <td>&lt;start&gt; yes sir simple coffee cappuchino ameri...</td>\n",
              "    </tr>\n",
              "    <tr>\n",
              "      <th>2</th>\n",
              "      <td>&lt;start&gt; i will take one espresso and americano...</td>\n",
              "      <td>&lt;start&gt; sir thanks for your order you have ord...</td>\n",
              "    </tr>\n",
              "  </tbody>\n",
              "</table>\n",
              "</div>\n",
              "      <button class=\"colab-df-convert\" onclick=\"convertToInteractive('df-89ea6d6f-7b89-430e-9db4-3b472b4aff57')\"\n",
              "              title=\"Convert this dataframe to an interactive table.\"\n",
              "              style=\"display:none;\">\n",
              "        \n",
              "  <svg xmlns=\"http://www.w3.org/2000/svg\" height=\"24px\"viewBox=\"0 0 24 24\"\n",
              "       width=\"24px\">\n",
              "    <path d=\"M0 0h24v24H0V0z\" fill=\"none\"/>\n",
              "    <path d=\"M18.56 5.44l.94 2.06.94-2.06 2.06-.94-2.06-.94-.94-2.06-.94 2.06-2.06.94zm-11 1L8.5 8.5l.94-2.06 2.06-.94-2.06-.94L8.5 2.5l-.94 2.06-2.06.94zm10 10l.94 2.06.94-2.06 2.06-.94-2.06-.94-.94-2.06-.94 2.06-2.06.94z\"/><path d=\"M17.41 7.96l-1.37-1.37c-.4-.4-.92-.59-1.43-.59-.52 0-1.04.2-1.43.59L10.3 9.45l-7.72 7.72c-.78.78-.78 2.05 0 2.83L4 21.41c.39.39.9.59 1.41.59.51 0 1.02-.2 1.41-.59l7.78-7.78 2.81-2.81c.8-.78.8-2.07 0-2.86zM5.41 20L4 18.59l7.72-7.72 1.47 1.35L5.41 20z\"/>\n",
              "  </svg>\n",
              "      </button>\n",
              "      \n",
              "  <style>\n",
              "    .colab-df-container {\n",
              "      display:flex;\n",
              "      flex-wrap:wrap;\n",
              "      gap: 12px;\n",
              "    }\n",
              "\n",
              "    .colab-df-convert {\n",
              "      background-color: #E8F0FE;\n",
              "      border: none;\n",
              "      border-radius: 50%;\n",
              "      cursor: pointer;\n",
              "      display: none;\n",
              "      fill: #1967D2;\n",
              "      height: 32px;\n",
              "      padding: 0 0 0 0;\n",
              "      width: 32px;\n",
              "    }\n",
              "\n",
              "    .colab-df-convert:hover {\n",
              "      background-color: #E2EBFA;\n",
              "      box-shadow: 0px 1px 2px rgba(60, 64, 67, 0.3), 0px 1px 3px 1px rgba(60, 64, 67, 0.15);\n",
              "      fill: #174EA6;\n",
              "    }\n",
              "\n",
              "    [theme=dark] .colab-df-convert {\n",
              "      background-color: #3B4455;\n",
              "      fill: #D2E3FC;\n",
              "    }\n",
              "\n",
              "    [theme=dark] .colab-df-convert:hover {\n",
              "      background-color: #434B5C;\n",
              "      box-shadow: 0px 1px 3px 1px rgba(0, 0, 0, 0.15);\n",
              "      filter: drop-shadow(0px 1px 2px rgba(0, 0, 0, 0.3));\n",
              "      fill: #FFFFFF;\n",
              "    }\n",
              "  </style>\n",
              "\n",
              "      <script>\n",
              "        const buttonEl =\n",
              "          document.querySelector('#df-89ea6d6f-7b89-430e-9db4-3b472b4aff57 button.colab-df-convert');\n",
              "        buttonEl.style.display =\n",
              "          google.colab.kernel.accessAllowed ? 'block' : 'none';\n",
              "\n",
              "        async function convertToInteractive(key) {\n",
              "          const element = document.querySelector('#df-89ea6d6f-7b89-430e-9db4-3b472b4aff57');\n",
              "          const dataTable =\n",
              "            await google.colab.kernel.invokeFunction('convertToInteractive',\n",
              "                                                     [key], {});\n",
              "          if (!dataTable) return;\n",
              "\n",
              "          const docLinkHtml = 'Like what you see? Visit the ' +\n",
              "            '<a target=\"_blank\" href=https://colab.research.google.com/notebooks/data_table.ipynb>data table notebook</a>'\n",
              "            + ' to learn more about interactive tables.';\n",
              "          element.innerHTML = '';\n",
              "          dataTable['output_type'] = 'display_data';\n",
              "          await google.colab.output.renderOutput(dataTable, element);\n",
              "          const docLink = document.createElement('div');\n",
              "          docLink.innerHTML = docLinkHtml;\n",
              "          element.appendChild(docLink);\n",
              "        }\n",
              "      </script>\n",
              "    </div>\n",
              "  </div>\n",
              "  "
            ],
            "text/plain": [
              "                                            Question  \\\n",
              "0                                  <start> hey <end>   \n",
              "1                     <start> do u have coffee <end>   \n",
              "2  <start> i will take one espresso and americano...   \n",
              "\n",
              "                                              answer  \n",
              "0             <start> hello how may i help you <end>  \n",
              "1  <start> yes sir simple coffee cappuchino ameri...  \n",
              "2  <start> sir thanks for your order you have ord...  "
            ]
          },
          "execution_count": 68,
          "metadata": {},
          "output_type": "execute_result"
        }
      ],
      "source": [
        "data.head(3)"
      ]
    },
    {
      "attachments": {},
      "cell_type": "markdown",
      "metadata": {
        "id": "hoQcvUo2ahWO"
      },
      "source": [
        "### Add a start and end token to each sentence"
      ]
    },
    {
      "attachments": {},
      "cell_type": "markdown",
      "metadata": {
        "id": "pmVlBOehaiMN"
      },
      "source": [
        "### Tokenize the sentences"
      ]
    },
    {
      "cell_type": "code",
      "execution_count": 69,
      "metadata": {
        "id": "Y9acRrtbaiMO"
      },
      "outputs": [],
      "source": [
        "def tokenize(lang):\n",
        "  # create a tokenizer object\n",
        "  lang_tokenizer = tf.keras.preprocessing.text.Tokenizer(oov_token='<OOV>',\n",
        "      filters='!\"#$%&()*+,-./:;=?@[\\\\]^_`{|}~\\t\\n')\n",
        "  lang_tokenizer.fit_on_texts(lang)\n",
        "  tensor = lang_tokenizer.texts_to_sequences(lang)\n",
        "  tensor = tf.keras.preprocessing.sequence.pad_sequences(tensor, padding='post')\n",
        "\n",
        "  return tensor, lang_tokenizer\n",
        "\n",
        "\n",
        "question_sequence,question_tokenizer = tokenize(data.Question)\n",
        "answer_sequence,answer_tokenizer = tokenize(data.answer)"
      ]
    },
    {
      "cell_type": "code",
      "execution_count": 70,
      "metadata": {
        "colab": {
          "base_uri": "https://localhost:8080/"
        },
        "id": "-Y_Fh_mjbhe-",
        "outputId": "79eddf08-2cdc-4771-d20f-e0a1cd0de160"
      },
      "outputs": [
        {
          "data": {
            "text/plain": [
              "<keras_preprocessing.text.Tokenizer at 0x7fb0eb6b1d50>"
            ]
          },
          "execution_count": 70,
          "metadata": {},
          "output_type": "execute_result"
        }
      ],
      "source": [
        "question_tokenizer"
      ]
    },
    {
      "cell_type": "code",
      "execution_count": 71,
      "metadata": {
        "id": "jOrTPhZeYodf"
      },
      "outputs": [],
      "source": [
        "vocab_inp_size = len(question_tokenizer.word_index)+1\n",
        "vocab_tar_size =  len(answer_tokenizer.word_index)+1\n",
        "embedding_dim =64\n",
        "units = 512\n",
        "batch_size=32"
      ]
    },
    {
      "cell_type": "code",
      "execution_count": 72,
      "metadata": {
        "colab": {
          "base_uri": "https://localhost:8080/"
        },
        "id": "TjnhPW3YUcUN",
        "outputId": "02dc0e1a-f551-41e2-dcb4-37ca1d6f1387"
      },
      "outputs": [
        {
          "data": {
            "text/plain": [
              "{'<OOV>': 1,\n",
              " '<end>': 3,\n",
              " '<start>': 2,\n",
              " 'a': 56,\n",
              " 'americano': 13,\n",
              " 'and': 21,\n",
              " 'anything': 88,\n",
              " 'apple': 83,\n",
              " 'asparagus': 126,\n",
              " 'at': 164,\n",
              " 'au': 39,\n",
              " 'avocado': 44,\n",
              " 'bad': 141,\n",
              " 'banana': 47,\n",
              " 'basque': 105,\n",
              " 'beef': 144,\n",
              " 'black': 31,\n",
              " 'blaeter': 127,\n",
              " 'blueberry': 79,\n",
              " 'bluree': 103,\n",
              " 'book': 120,\n",
              " 'caffe': 158,\n",
              " 'cake': 115,\n",
              " 'can': 37,\n",
              " 'candy': 50,\n",
              " 'cappucchino': 66,\n",
              " 'cappuchino': 89,\n",
              " 'caramel': 52,\n",
              " 'cerame': 86,\n",
              " 'chans': 81,\n",
              " 'char': 142,\n",
              " 'cheery': 60,\n",
              " 'cheese': 55,\n",
              " 'cherry': 107,\n",
              " 'choco': 46,\n",
              " 'chocolate': 28,\n",
              " 'cinnimon': 121,\n",
              " 'coffee': 20,\n",
              " 'combo': 43,\n",
              " 'con': 90,\n",
              " 'cotton': 49,\n",
              " 'cranberry': 74,\n",
              " 'cream': 29,\n",
              " 'cupcake': 62,\n",
              " 'dirty': 137,\n",
              " 'do': 6,\n",
              " 'drumstick': 68,\n",
              " 'easy': 123,\n",
              " 'egg': 30,\n",
              " 'else': 140,\n",
              " 'espresso': 26,\n",
              " 'excuse': 153,\n",
              " 'extra': 150,\n",
              " 'for': 162,\n",
              " 'forest': 97,\n",
              " 'frappe': 92,\n",
              " 'french': 57,\n",
              " 'fruit': 36,\n",
              " 'get': 87,\n",
              " 'give': 133,\n",
              " 'good': 138,\n",
              " 'h': 58,\n",
              " 'have': 5,\n",
              " 'hello': 35,\n",
              " 'hey': 38,\n",
              " 'honey': 63,\n",
              " 'i': 16,\n",
              " 'ice': 65,\n",
              " 'iced': 93,\n",
              " 'im': 159,\n",
              " 'in': 112,\n",
              " 'irish': 110,\n",
              " 'is': 7,\n",
              " 'juice': 85,\n",
              " 'keto': 125,\n",
              " 'laite': 40,\n",
              " 'late': 94,\n",
              " 'latte': 67,\n",
              " 'layer': 116,\n",
              " 'like': 131,\n",
              " 'macchiato': 82,\n",
              " 'macrons': 106,\n",
              " 'malted': 70,\n",
              " 'mango': 102,\n",
              " 'maxres': 104,\n",
              " 'me': 17,\n",
              " 'menu': 96,\n",
              " 'milkshake': 22,\n",
              " 'mint': 75,\n",
              " 'mix': 33,\n",
              " 'mose': 99,\n",
              " 'need': 149,\n",
              " 'no': 139,\n",
              " 'nutella': 108,\n",
              " 'of': 9,\n",
              " 'ok': 118,\n",
              " 'on': 163,\n",
              " 'one': 27,\n",
              " 'orange': 45,\n",
              " 'oreo': 71,\n",
              " 'panna': 91,\n",
              " 'pastery': 34,\n",
              " 'pastry': 101,\n",
              " 'peanut': 77,\n",
              " 'pineapple': 113,\n",
              " 'pista': 72,\n",
              " 'please': 134,\n",
              " 'pomegranate': 84,\n",
              " 'pretze': 155,\n",
              " 'pretzel': 61,\n",
              " 'price': 8,\n",
              " 'puff': 12,\n",
              " 'pumpkin': 69,\n",
              " 'question': 165,\n",
              " 'recomend': 160,\n",
              " 'red': 53,\n",
              " 'rolls': 122,\n",
              " 'rough': 119,\n",
              " 'salted': 51,\n",
              " 'serve': 156,\n",
              " 'shake': 19,\n",
              " 'shot': 114,\n",
              " 'should': 117,\n",
              " 'simpl': 161,\n",
              " 'simple': 80,\n",
              " 'slice': 64,\n",
              " 'smores': 78,\n",
              " 'smothie': 59,\n",
              " 'social': 147,\n",
              " 'something': 15,\n",
              " 'special': 14,\n",
              " 'spinach': 124,\n",
              " 'strawberry': 32,\n",
              " 'sugar': 151,\n",
              " 'suggest': 18,\n",
              " 'sui': 143,\n",
              " 'table': 109,\n",
              " 'take': 24,\n",
              " 'tanuki': 148,\n",
              " 'tart': 146,\n",
              " 'tertei': 128,\n",
              " 'thank': 135,\n",
              " 'the': 136,\n",
              " 'tie': 98,\n",
              " 'tiramisu': 73,\n",
              " 'to': 132,\n",
              " 'tomato': 129,\n",
              " 'traimisu': 41,\n",
              " 'treat': 48,\n",
              " 'two': 111,\n",
              " 'u': 11,\n",
              " 'vanila': 23,\n",
              " 'velvet': 54,\n",
              " 'waffel': 42,\n",
              " 'waffle': 152,\n",
              " 'wainans': 95,\n",
              " 'walnut': 100,\n",
              " 'want': 154,\n",
              " 'water': 157,\n",
              " 'wellington': 145,\n",
              " 'what': 4,\n",
              " 'white': 76,\n",
              " 'will': 25,\n",
              " 'would': 130,\n",
              " 'you': 10}"
            ]
          },
          "execution_count": 72,
          "metadata": {},
          "output_type": "execute_result"
        }
      ],
      "source": [
        "question_tokenizer.word_index"
      ]
    },
    {
      "cell_type": "code",
      "execution_count": 73,
      "metadata": {
        "colab": {
          "base_uri": "https://localhost:8080/"
        },
        "id": "MiADoSvoUe_9",
        "outputId": "b5436807-9730-49e3-8f24-b3d90641195c"
      },
      "outputs": [
        {
          "data": {
            "text/plain": [
              "{'<OOV>': 1,\n",
              " '<end>': 3,\n",
              " '<start>': 2,\n",
              " 'a': 60,\n",
              " 'affair': 199,\n",
              " 'affaire': 140,\n",
              " 'americano': 66,\n",
              " 'and': 25,\n",
              " 'answer': 200,\n",
              " 'apple': 83,\n",
              " 'are': 145,\n",
              " 'asparagus': 152,\n",
              " 'at': 18,\n",
              " 'au': 58,\n",
              " 'avocado': 68,\n",
              " 'banana': 74,\n",
              " 'basque': 129,\n",
              " 'beef': 164,\n",
              " 'best': 16,\n",
              " 'bikini': 194,\n",
              " 'black': 57,\n",
              " 'blaeter': 153,\n",
              " 'blueberry': 149,\n",
              " 'bluree': 111,\n",
              " 'book': 169,\n",
              " 'but': 157,\n",
              " 'cafe': 43,\n",
              " 'caffe': 176,\n",
              " 'cake': 128,\n",
              " 'can': 11,\n",
              " 'candy': 77,\n",
              " 'cappccino': 116,\n",
              " 'cappucchino': 117,\n",
              " 'cappuchino': 103,\n",
              " 'caramel': 70,\n",
              " 'cerame': 113,\n",
              " 'chans': 118,\n",
              " 'char': 160,\n",
              " 'cheery': 89,\n",
              " 'cheese': 93,\n",
              " 'cherry': 139,\n",
              " 'choco': 71,\n",
              " 'chocolate': 35,\n",
              " 'choice': 45,\n",
              " 'cindy': 197,\n",
              " 'cinnimon': 150,\n",
              " 'click': 171,\n",
              " 'coffe': 120,\n",
              " 'coffee': 37,\n",
              " 'combo': 67,\n",
              " 'con': 141,\n",
              " 'cotton': 76,\n",
              " 'cranberry': 88,\n",
              " 'crawford': 198,\n",
              " 'cream': 39,\n",
              " 'cupcake': 94,\n",
              " 'do': 168,\n",
              " 'drumstick': 86,\n",
              " 'easy': 162,\n",
              " 'egg': 132,\n",
              " 'enjoy': 17,\n",
              " 'espresso': 55,\n",
              " 'filter': 147,\n",
              " 'for': 30,\n",
              " 'forest': 121,\n",
              " 'frappe': 135,\n",
              " 'french': 104,\n",
              " 'fruit': 53,\n",
              " 'gal': 193,\n",
              " 'get': 179,\n",
              " 'have': 12,\n",
              " 'hazelnut': 177,\n",
              " 'hello': 47,\n",
              " 'help': 49,\n",
              " 'honey': 102,\n",
              " 'hope': 137,\n",
              " 'how': 48,\n",
              " 'i': 22,\n",
              " 'ice': 101,\n",
              " 'iced': 143,\n",
              " 'icon': 173,\n",
              " 'in': 46,\n",
              " 'indian': 146,\n",
              " 'irish': 119,\n",
              " 'is': 56,\n",
              " 'it': 15,\n",
              " 'its': 10,\n",
              " 'juice': 85,\n",
              " 'just': 13,\n",
              " 'keto': 138,\n",
              " 'kinda': 192,\n",
              " 'l': 134,\n",
              " 'laite': 59,\n",
              " 'last': 172,\n",
              " 'late': 144,\n",
              " 'latte': 105,\n",
              " 'layer': 112,\n",
              " 'left': 174,\n",
              " 'like': 26,\n",
              " 'likeamericano': 186,\n",
              " 'likecappccino': 188,\n",
              " 'loooooove': 195,\n",
              " 'macchiato': 131,\n",
              " 'macrons': 114,\n",
              " 'malted': 96,\n",
              " 'mango': 110,\n",
              " 'maxres': 124,\n",
              " 'may': 23,\n",
              " 'milkshake': 44,\n",
              " 'milkshakes': 106,\n",
              " 'milshake': 189,\n",
              " 'mint': 78,\n",
              " 'mix': 42,\n",
              " 'mocha': 185,\n",
              " 'mose': 123,\n",
              " 'no': 156,\n",
              " 'nutella': 115,\n",
              " 'o': 183,\n",
              " 'of': 8,\n",
              " 'on': 63,\n",
              " 'one': 14,\n",
              " 'orange': 62,\n",
              " 'order': 51,\n",
              " 'ordered': 52,\n",
              " 'oreo': 72,\n",
              " 'ought': 190,\n",
              " 'our': 7,\n",
              " 'ovidiu': 181,\n",
              " 'panna': 142,\n",
              " 'pardon': 20,\n",
              " 'pastery': 130,\n",
              " 'pastries': 65,\n",
              " 'pastry': 109,\n",
              " 'peanut': 80,\n",
              " 'pineapple': 126,\n",
              " 'pista': 87,\n",
              " 'please': 6,\n",
              " 'pomegranate': 84,\n",
              " 'prdon': 38,\n",
              " 'pretze': 187,\n",
              " 'pretzel': 81,\n",
              " 'puff': 28,\n",
              " 'pumpkin': 95,\n",
              " 'reallllly': 196,\n",
              " 'red': 91,\n",
              " 'rolls': 151,\n",
              " 'rom': 182,\n",
              " 'rough': 133,\n",
              " 'rs': 9,\n",
              " 'salted': 69,\n",
              " 'shake': 21,\n",
              " 'shot': 127,\n",
              " 'side': 175,\n",
              " 'simple': 99,\n",
              " 'sir': 24,\n",
              " 'slice': 107,\n",
              " 'smores': 90,\n",
              " 'smothie': 73,\n",
              " 'social': 167,\n",
              " 'sometime': 41,\n",
              " 'sorry': 155,\n",
              " 'special': 125,\n",
              " 'spinach': 163,\n",
              " 'strawberry': 54,\n",
              " 'sugar': 180,\n",
              " 'suggest': 34,\n",
              " 'sui': 161,\n",
              " 'sure': 98,\n",
              " 'table': 170,\n",
              " 'tanuki': 159,\n",
              " 'tart': 166,\n",
              " 'tertei': 154,\n",
              " 'thanks': 50,\n",
              " 'tie': 122,\n",
              " 'tiramisu': 97,\n",
              " 'to': 29,\n",
              " 'tomato': 148,\n",
              " 'traimisu': 82,\n",
              " 'treat': 75,\n",
              " 'u': 61,\n",
              " 'vanila': 32,\n",
              " 'vanilla': 191,\n",
              " 'velvet': 92,\n",
              " 'waffel': 64,\n",
              " 'waffle': 184,\n",
              " 'wainans': 136,\n",
              " 'wait': 40,\n",
              " 'walnut': 108,\n",
              " 'want': 19,\n",
              " 'way': 100,\n",
              " 'we': 36,\n",
              " 'wellington': 165,\n",
              " 'what': 5,\n",
              " 'white': 79,\n",
              " 'why': 158,\n",
              " 'will': 178,\n",
              " 'would': 33,\n",
              " 'yes': 27,\n",
              " 'you': 4,\n",
              " 'your': 31}"
            ]
          },
          "execution_count": 73,
          "metadata": {},
          "output_type": "execute_result"
        }
      ],
      "source": [
        "answer_tokenizer.word_index"
      ]
    },
    {
      "cell_type": "code",
      "execution_count": 74,
      "metadata": {
        "id": "39YEZRdbcDxp"
      },
      "outputs": [],
      "source": [
        "#split the datasets into training and testing\n",
        "x_train,x_test,y_train,y_test = model_selection.train_test_split(question_sequence,answer_sequence,test_size=0.2)"
      ]
    },
    {
      "cell_type": "code",
      "execution_count": 75,
      "metadata": {
        "colab": {
          "base_uri": "https://localhost:8080/"
        },
        "id": "ax2a7ZnkcZTd",
        "outputId": "39d7844b-3248-4199-f018-3c753f6f62cf"
      },
      "outputs": [
        {
          "name": "stdout",
          "output_type": "stream",
          "text": [
            "(749, 49)\n",
            "(188, 49)\n",
            "(749, 54)\n",
            "(188, 54)\n"
          ]
        }
      ],
      "source": [
        "#shape\n",
        "print(x_train.shape)\n",
        "print(x_test.shape)\n",
        "print(y_train.shape)\n",
        "print(y_test.shape)"
      ]
    },
    {
      "cell_type": "code",
      "execution_count": 76,
      "metadata": {
        "colab": {
          "base_uri": "https://localhost:8080/"
        },
        "id": "a-k1E86XcJT9",
        "outputId": "59fe6217-fe98-4a31-cf4a-aafff1b2e994"
      },
      "outputs": [
        {
          "name": "stdout",
          "output_type": "stream",
          "text": [
            "question ; index to word mapping\n",
            "2 ----> <start>\n",
            "18 ----> suggest\n",
            "17 ----> me\n",
            "15 ----> something\n",
            "3 ----> <end>\n",
            "\n",
            "answar; index to word mapping\n",
            "2 ----> <start>\n",
            "22 ----> i\n",
            "23 ----> may\n",
            "34 ----> suggest\n",
            "4 ----> you\n",
            "115 ----> nutella\n",
            "28 ----> puff\n",
            "3 ----> <end>\n"
          ]
        }
      ],
      "source": [
        "\n",
        "def convert(token, tensor):\n",
        "  for t in tensor:\n",
        "    if t!=0:\n",
        "      print (\"%d ----> %s\" % (t, token.index_word[t]))\n",
        "\n",
        "print (\"question ; index to word mapping\")\n",
        "convert(question_tokenizer, x_train[0])\n",
        "print ()\n",
        "print (\"answar; index to word mapping\")\n",
        "convert(answer_tokenizer, y_train[0])      "
      ]
    },
    {
      "cell_type": "code",
      "execution_count": 77,
      "metadata": {
        "colab": {
          "base_uri": "https://localhost:8080/",
          "height": 355
        },
        "id": "6zk2bU9KZ3YO",
        "outputId": "e6af6a88-5c03-4bbc-df1f-0fb455b9a572"
      },
      "outputs": [
        {
          "name": "stdout",
          "output_type": "stream",
          "text": [
            "363\n"
          ]
        },
        {
          "data": {
            "text/plain": [
              "(array([479., 324.,  66.,   4.,   0.,   0.,   8.,  22.,   6.,  28.]),\n",
              " array([ 20. ,  54.3,  88.6, 122.9, 157.2, 191.5, 225.8, 260.1, 294.4,\n",
              "        328.7, 363. ]),\n",
              " <a list of 10 Patch objects>)"
            ]
          },
          "execution_count": 77,
          "metadata": {},
          "output_type": "execute_result"
        },
        {
          "data": {
            "image/png": "[encoded data removed]",
            "text/plain": [
              "<Figure size 432x288 with 1 Axes>"
            ]
          },
          "metadata": {
            "needs_background": "light"
          },
          "output_type": "display_data"
        }
      ],
      "source": [
        "list_seq=[]\n",
        "seq_lenght=[len(list_seq) for list_seq in data.answer]\n",
        "print(max(seq_lenght))\n",
        "plt.hist(seq_lenght)"
      ]
    },
    {
      "cell_type": "code",
      "execution_count": 78,
      "metadata": {
        "colab": {
          "base_uri": "https://localhost:8080/",
          "height": 352
        },
        "id": "xFHghwWNaTaX",
        "outputId": "3b2754c4-e850-45eb-facb-3bfe02073f0a"
      },
      "outputs": [
        {
          "name": "stdout",
          "output_type": "stream",
          "text": [
            "339\n"
          ]
        },
        {
          "data": {
            "text/plain": [
              "(array([827.,  70.,   8.,   4.,   0.,   4.,   8.,   4.,   0.,  12.]),\n",
              " array([ 17. ,  49.2,  81.4, 113.6, 145.8, 178. , 210.2, 242.4, 274.6,\n",
              "        306.8, 339. ]),\n",
              " <a list of 10 Patch objects>)"
            ]
          },
          "execution_count": 78,
          "metadata": {},
          "output_type": "execute_result"
        },
        {
          "data": {
            "image/png": "[encoded data removed]",
            "text/plain": [
              "<Figure size 432x288 with 1 Axes>"
            ]
          },
          "metadata": {
            "needs_background": "light"
          },
          "output_type": "display_data"
        }
      ],
      "source": [
        "\n",
        "\n",
        "list_seq=[]\n",
        "seq_lenght=[len(list_seq) for list_seq in data.Question]\n",
        "print(max(seq_lenght))\n",
        "plt.hist(seq_lenght)"
      ]
    },
    {
      "attachments": {},
      "cell_type": "markdown",
      "metadata": {
        "id": "H_Sd4aQGasLk"
      },
      "source": [
        "### Pad each sentence to a maximum length"
      ]
    },
    {
      "attachments": {},
      "cell_type": "markdown",
      "metadata": {
        "id": "K5x6ahnDZZfk"
      },
      "source": [
        "## 5- Create the Data Pipeline for the Model"
      ]
    },
    {
      "cell_type": "code",
      "execution_count": 79,
      "metadata": {
        "id": "OIrFkw5-Zfoc"
      },
      "outputs": [],
      "source": [
        "\n",
        "def create_data_pipline(x,y):\n",
        "    data =tf.data.Dataset.from_tensor_slices((x,y))\n",
        "    data =data.shuffle(400)\n",
        "    data=data.batch(batch_size=32,drop_remainder=True)\n",
        "    data =data.prefetch(tf.data.AUTOTUNE)\n",
        "    return data\n",
        "# create the training data\n",
        "train_dataset = create_data_pipline(x_train,y_train)\n",
        "# create the testing data\n",
        "test_dataset = create_data_pipline(x_test,y_test)"
      ]
    },
    {
      "cell_type": "code",
      "execution_count": 80,
      "metadata": {
        "colab": {
          "base_uri": "https://localhost:8080/"
        },
        "id": "CoVzqeD8hvIR",
        "outputId": "efc112ca-49ff-44e9-a06d-f07208f76d7e"
      },
      "outputs": [
        {
          "name": "stdout",
          "output_type": "stream",
          "text": [
            "question:(32, 49)\n",
            "[[ 2 38  3 ...  0  0  0]\n",
            " [ 2 18 17 ...  0  0  0]\n",
            " [ 2  4  7 ...  0  0  0]\n",
            " ...\n",
            " [ 2  6 11 ...  0  0  0]\n",
            " [ 2  6 11 ... 21 78  3]\n",
            " [ 2  4  7 ...  0  0  0]]\n",
            "answer:(32, 54)\n",
            "[[  2  47  48 ...   0   0   0]\n",
            " [  2  22  23 ...   0   0   0]\n",
            " [  2  10   7 ...   0   0   0]\n",
            " ...\n",
            " [  2 156  24 ...   0   0   0]\n",
            " [  2  27  36 ...   0   0   0]\n",
            " [  2  10   7 ...   0   0   0]]\n"
          ]
        }
      ],
      "source": [
        "# get the first batch of the training data \n",
        "for question, answer in train_dataset.take(1):\n",
        "  print(f\"question:{question.shape}\\n{question}\")\n",
        "  print(f\"answer:{answer.shape}\\n{answer}\")\n",
        "  question_sample = question\n",
        "  answer_sample = answer"
      ]
    },
    {
      "attachments": {},
      "cell_type": "markdown",
      "metadata": {
        "id": "nOEo3I9grsab"
      },
      "source": [
        "##6- Create the Seq2Seq Model Architecture"
      ]
    },
    {
      "attachments": {},
      "cell_type": "markdown",
      "metadata": {
        "id": "EWC9UWmbZ5a6"
      },
      "source": [
        "###Encoder Model"
      ]
    },
    {
      "cell_type": "code",
      "execution_count": 81,
      "metadata": {
        "id": "Fy6HA5ZIrFLJ"
      },
      "outputs": [],
      "source": [
        "# Create the encoder model\n",
        "class Encoder(tf.keras.Model):\n",
        "  \n",
        "  def __init__(self, vocab_size, embedding_dim, encoder_units, batch_size):\n",
        "    super(Encoder, self).__init__()\n",
        "    self.batch_size = batch_size\n",
        "    self.encoder_units = encoder_units\n",
        "    self.embedding = tf.keras.layers.Embedding(vocab_size, embedding_dim)\n",
        "    self.gru = tf.keras.layers.GRU(self.encoder_units,\n",
        "                                   return_sequences=True,\n",
        "                                   return_state=True,\n",
        "                                   recurrent_initializer=tf.keras.initializers.glorot_normal(seed=42))\n",
        "\n",
        "  def call(self, x, hidden):\n",
        "    x = self.embedding(x)\n",
        "    output, state = self.gru(x, initial_state = hidden)\n",
        "    return output, state\n",
        "\n",
        "  def initialize_hidden_state(self):\n",
        "    return tf.zeros((self.batch_size, self.encoder_units))\n",
        "\n"
      ]
    },
    {
      "cell_type": "code",
      "execution_count": 82,
      "metadata": {
        "id": "0L6bfSRt-RdY"
      },
      "outputs": [],
      "source": [
        "# Create the decoder model\n",
        "class Decoder(tf.keras.Model):\n",
        "  def __init__(self, vocab_size, embedding_dim, decoder_units, batch_size):\n",
        "    super(Decoder, self).__init__()\n",
        "    self.batch_size = batch_size\n",
        "    self.decoder_units = decoder_units\n",
        "    self.embedding = tf.keras.layers.Embedding(vocab_size, embedding_dim)\n",
        "    self.gru = tf.keras.layers.GRU(self.decoder_units,\n",
        "                                   return_sequences=True,\n",
        "                                   return_state=True,\n",
        "                                   recurrent_initializer='glorot_uniform')\n",
        "\n",
        "    self.fc = tf.keras.layers.Dense(vocab_size)\n",
        "\n",
        "   \n",
        "  def call(self, x, hidden):\n",
        "    x = self.embedding(x)\n",
        "    output, hidden = self.gru(x,hidden)\n",
        "    output = tf.reshape(output, (-1, output.shape[2]))\n",
        "    x = tf.nn.softmax(self.fc(output))\n",
        "    return x, hidden"
      ]
    },
    {
      "cell_type": "code",
      "execution_count": 83,
      "metadata": {
        "colab": {
          "base_uri": "https://localhost:8080/"
        },
        "id": "nmhNQysGFwR6",
        "outputId": "09f227b2-0170-48f9-a0cf-13ae58e0d33e"
      },
      "outputs": [
        {
          "name": "stdout",
          "output_type": "stream",
          "text": [
            "(batch size, sequence length, units) (32, 49, 512)\n",
            "(batch size, units) (32, 512)\n"
          ]
        }
      ],
      "source": [
        "encoder = Encoder(vocab_inp_size, embedding_dim, units, batch_size)\n",
        "sample_hidden = encoder.initialize_hidden_state()\n",
        "sample_output, sample_hidden = encoder(question, sample_hidden)\n",
        "print ('(batch size, sequence length, units)',(sample_output.shape))\n",
        "print ('(batch size, units)',(sample_hidden.shape))"
      ]
    },
    {
      "cell_type": "code",
      "execution_count": 84,
      "metadata": {
        "colab": {
          "base_uri": "https://localhost:8080/"
        },
        "id": "hp76D3DZODRj",
        "outputId": "c07a569a-6fd5-4f1f-b6a0-e8e6f7fdbf59"
      },
      "outputs": [
        {
          "name": "stdout",
          "output_type": "stream",
          "text": [
            "(batch_size, vocab size)  (32, 201)\n"
          ]
        }
      ],
      "source": [
        "\n",
        "decoder = Decoder(vocab_tar_size, embedding_dim, units, batch_size) \n",
        "sample_decoder_output, _ = decoder(tf.random.uniform((batch_size, 1)),\n",
        "                                      sample_hidden)\n",
        "\n",
        "print ('(batch_size, vocab size) ',sample_decoder_output.shape)"
      ]
    },
    {
      "attachments": {},
      "cell_type": "markdown",
      "metadata": {
        "id": "QdZTOtgxZwb-"
      },
      "source": [
        "### Decoder Model"
      ]
    },
    {
      "cell_type": "code",
      "execution_count": 84,
      "metadata": {
        "id": "ul17SieaaHuk"
      },
      "outputs": [],
      "source": [
        "\n",
        "\n"
      ]
    },
    {
      "attachments": {},
      "cell_type": "markdown",
      "metadata": {
        "id": "r1MUIcM2a3Mp"
      },
      "source": [
        "## 7- Create the Optimizer and the Loss Function"
      ]
    },
    {
      "cell_type": "code",
      "execution_count": 85,
      "metadata": {
        "id": "0uosbAXObbMI"
      },
      "outputs": [],
      "source": [
        "optimizer = tf.keras.optimizers.Adam()\n",
        "loss_object = tf.keras.losses.SparseCategoricalCrossentropy(\n",
        "    from_logits=False, reduction='none')\n",
        "# create the loss function\n",
        "def loss_function(real, pred):\n",
        "  mask = tf.math.logical_not(tf.math.equal(real, 0))\n",
        "  # calculate the loss\n",
        "  loss_ = loss_object(real, pred)\n",
        "  mask = tf.cast(mask, dtype=loss_.dtype)\n",
        "  loss_ *= mask\n",
        "  return tf.reduce_mean(loss_)"
      ]
    },
    {
      "cell_type": "code",
      "execution_count": 89,
      "metadata": {
        "id": "RuqlF5TAVQwY"
      },
      "outputs": [],
      "source": [
        "# create the training metric \n",
        "train_loss = tf.metrics.Mean(name='train loss')\n",
        "# create the testing metric \n",
        "test_loss =tf.metrics.Mean(name='test loss')"
      ]
    },
    {
      "attachments": {},
      "cell_type": "markdown",
      "metadata": {
        "id": "WeD6m2XuxGDT"
      },
      "source": [
        "## 8- Create the Training Loop"
      ]
    },
    {
      "cell_type": "code",
      "execution_count": 92,
      "metadata": {
        "id": "JeUHxzRJuqvQ"
      },
      "outputs": [],
      "source": [
        "@tf.function\n",
        "# define the training step \n",
        "def train_step(inputs, target, enc_hidden):\n",
        "  loss = 0\n",
        "\n",
        "  with tf.GradientTape() as tape:\n",
        "    enc_output, enc_hidden = encoder(inputs, enc_hidden)\n",
        "    dec_hidden = enc_hidden\n",
        "    dec_input = tf.expand_dims([answer_tokenizer.word_index['<start>']] * inputs.shape[0], 1)\n",
        "    \n",
        "    \n",
        "    for t in range(1, target.shape[1]):\n",
        "      predictions, dec_hidden = decoder(dec_input, dec_hidden)\n",
        "\n",
        "      loss += loss_function(target[:, t], predictions)\n",
        "\n",
        "      # using teacher forcing\n",
        "      dec_input = tf.expand_dims(target[:, t], 1)\n",
        "  batch_loss = (loss / int(target.shape[1]))\n",
        "\n",
        "  variables = encoder.trainable_variables + decoder.trainable_variables\n",
        "  gradients = tape.gradient(loss, variables)\n",
        "  optimizer.apply_gradients(zip(gradients, variables))\n",
        "  train_loss(batch_loss)\n",
        "  return batch_loss\n"
      ]
    },
    {
      "cell_type": "code",
      "execution_count": 93,
      "metadata": {
        "id": "nug3FtdnvHu4"
      },
      "outputs": [],
      "source": [
        "@tf.function \n",
        "def test_step(inputs, target, enc_hidden):\n",
        "    # inilaize the loss to zero\n",
        "    loss = 0\n",
        "    enc_output, enc_hidden = encoder(inputs, enc_hidden)\n",
        "    dec_hidden = enc_hidden\n",
        "    dec_input = tf.expand_dims([answer_tokenizer.word_index['<start>']] * inputs.shape[0], 1)\n",
        "    for t in range(1, target.shape[1]):\n",
        "        predictions, dec_hidden = decoder(dec_input, dec_hidden)\n",
        "        loss += loss_function(target[:, t], predictions)\n",
        "\n",
        "        # using teacher forcing\n",
        "        dec_input = tf.expand_dims(target[:, t], 1)\n",
        "    batch_loss = (loss / int(target.shape[1]))\n",
        "    test_loss(batch_loss)\n",
        "\n"
      ]
    },
    {
      "cell_type": "code",
      "execution_count": 94,
      "metadata": {
        "colab": {
          "base_uri": "https://localhost:8080/"
        },
        "id": "Sc8fd82UVSVn",
        "outputId": "48b00ebe-9ab8-491b-f9be-4168a2b891dd"
      },
      "outputs": [
        {
          "data": {
            "text/plain": [
              "<keras.metrics.Mean at 0x7fb0eba8ee90>"
            ]
          },
          "execution_count": 94,
          "metadata": {},
          "output_type": "execute_result"
        }
      ],
      "source": [
        "train_loss"
      ]
    },
    {
      "attachments": {},
      "cell_type": "markdown",
      "metadata": {
        "id": "iGYQ9J45a7nN"
      },
      "source": [
        "##9- Create the Training Step"
      ]
    },
    {
      "cell_type": "code",
      "execution_count": 95,
      "metadata": {
        "colab": {
          "base_uri": "https://localhost:8080/"
        },
        "id": "ZwWeUUw5ssHy",
        "outputId": "9c68e5b1-3b87-4af8-eca2-9bd2577211df"
      },
      "outputs": [
        {
          "name": "stdout",
          "output_type": "stream",
          "text": [
            "28/29 [===========================>..] - ETA: 0s##################################################\n",
            "Epoch #1\n",
            "Training Loss 1.0027083158493042\n",
            "Testing Loss 0.7099976539611816\n",
            "##################################################\n",
            "28/29 [===========================>..] - ETA: 0s##################################################\n",
            "Epoch #2\n",
            "Training Loss 0.7606614828109741\n",
            "Testing Loss 0.5690580010414124\n",
            "##################################################\n",
            "28/29 [===========================>..] - ETA: 0s##################################################\n",
            "Epoch #3\n",
            "Training Loss 0.60235595703125\n",
            "Testing Loss 0.46321526169776917\n",
            "##################################################\n",
            "28/29 [===========================>..] - ETA: 0s##################################################\n",
            "Epoch #4\n",
            "Training Loss 0.4715549945831299\n",
            "Testing Loss 0.3522721230983734\n",
            "##################################################\n",
            "28/29 [===========================>..] - ETA: 0s##################################################\n",
            "Epoch #5\n",
            "Training Loss 0.38307061791419983\n",
            "Testing Loss 0.28210577368736267\n",
            "##################################################\n",
            "28/29 [===========================>..] - ETA: 0s##################################################\n",
            "Epoch #6\n",
            "Training Loss 0.31701427698135376\n",
            "Testing Loss 0.2404412031173706\n",
            "##################################################\n",
            "28/29 [===========================>..] - ETA: 0s##################################################\n",
            "Epoch #7\n",
            "Training Loss 0.24882516264915466\n",
            "Testing Loss 0.18656618893146515\n",
            "##################################################\n",
            "28/29 [===========================>..] - ETA: 0s##################################################\n",
            "Epoch #8\n",
            "Training Loss 0.1986386477947235\n",
            "Testing Loss 0.17804908752441406\n",
            "##################################################\n",
            "28/29 [===========================>..] - ETA: 0s##################################################\n",
            "Epoch #9\n",
            "Training Loss 0.1643865704536438\n",
            "Testing Loss 0.14922311902046204\n",
            "##################################################\n",
            "28/29 [===========================>..] - ETA: 0s##################################################\n",
            "Epoch #10\n",
            "Training Loss 0.14534325897693634\n",
            "Testing Loss 0.13632848858833313\n",
            "##################################################\n"
          ]
        }
      ],
      "source": [
        "EPOCHS = 10\n",
        "\n",
        "# create the training loop\n",
        "for epoch in range(EPOCHS):\n",
        "    # reset the training loss metric\n",
        "    train_loss.reset_states()\n",
        "    # reset the testing loss metric\n",
        "    test_loss.reset_states()\n",
        "\n",
        "\n",
        "    enc_hidden = encoder.initialize_hidden_state()\n",
        "    \n",
        "    steps_per_epoch = answer_sequence.shape[0]//batch_size \n",
        "    bar = tf.keras.utils.Progbar(target=steps_per_epoch)\n",
        "    \n",
        "    count=0\n",
        "    for (batch, (inputs, target)) in enumerate(train_dataset):\n",
        "        count += 1\n",
        "        # run the training step\n",
        "        batch_loss = train_step(inputs, target, enc_hidden)\n",
        "        bar.update(count) \n",
        "                                                  \n",
        "    \n",
        "         \n",
        "    \n",
        "    # iterate over the testing dataset    \n",
        "    for (batch, (inputs, target)) in enumerate(test_dataset):\n",
        "        count += 1\n",
        "        batch_loss = test_step(inputs, target, enc_hidden)\n",
        "        bar.update(count)\n",
        "\n",
        "    # print the training and testing loss\n",
        "    print('#' * 50)\n",
        "    print(f'Epoch #{epoch + 1}')\n",
        "    print(f'Training Loss {train_loss.result()}')\n",
        "    print(f'Testing Loss {test_loss.result()}')\n",
        "    print('#' * 50)"
      ]
    }
  ],
  "metadata": {
    "accelerator": "GPU",
    "colab": {
      "collapsed_sections": [],
      "name": "Copy of Assignment 08: Advanced Sequence Applications-Raghad Ahmed",
      "provenance": [],
      "toc_visible": true
    },
    "kernelspec": {
      "display_name": "Python 3",
      "name": "python3"
    },
    "language_info": {
      "name": "python"
    }
  },
  "nbformat": 4,
  "nbformat_minor": 0
}
